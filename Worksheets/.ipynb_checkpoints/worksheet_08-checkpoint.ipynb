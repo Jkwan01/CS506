{
 "cells": [
  {
   "attachments": {},
   "cell_type": "markdown",
   "metadata": {},
   "source": [
    "# Worksheet 08\n",
    "\n",
    "Name:  Jason Kwan\n",
    "\n",
    "UID: U61451841\n",
    "\n",
    "### Topics\n",
    "\n",
    "- Soft Clustering\n",
    "- Clustering Aggregation\n",
    "\n",
    "### Probability Review\n",
    "\n",
    "Read through [the following](https://medium.com/@gallettilance/overview-of-probability-3272b72c82c8)\n",
    "\n",
    "### Soft Clustering\n",
    "\n",
    "We generate 10 data points that come from a normal distribution with mean 5 and variance 1."
   ]
  },
  {
   "cell_type": "code",
   "execution_count": 18,
   "metadata": {},
   "outputs": [
    {
     "name": "stdout",
     "output_type": "stream",
     "text": [
      "[4.420025034264306, 3.436719032585602, 5.6115776521907845, 4.9157055830570835, 3.680822870405833, 4.941329749223279, 4.873730069012262, 3.4712086547320213, 2.229553250178349, 6.330608165393387]\n"
     ]
    }
   ],
   "source": [
    "import random\n",
    "import numpy as np\n",
    "from sklearn.cluster import KMeans\n",
    "\n",
    "mean = 5\n",
    "stdev = 1\n",
    "\n",
    "c1 = np.random.normal(mean, stdev, 10).tolist()\n",
    "print(c1)"
   ]
  },
  {
   "cell_type": "markdown",
   "metadata": {},
   "source": [
    "a) Generate 10 more data points, this time coming from a normal distribution with mean 8 and variance 1."
   ]
  },
  {
   "cell_type": "code",
   "execution_count": 19,
   "metadata": {},
   "outputs": [
    {
     "name": "stdout",
     "output_type": "stream",
     "text": [
      "[7.7233919713469685, 6.380939207450176, 7.881460381848566, 7.55466892161569, 8.948503952600749, 7.0432608047796705, 7.560110551269754, 8.19527714603357, 7.607779861211034, 10.087734411295035]\n"
     ]
    }
   ],
   "source": [
    "c2 = np.random.normal( 8 , 1 , 10 ).tolist()\n",
    "print(c2)"
   ]
  },
  {
   "cell_type": "markdown",
   "metadata": {},
   "source": [
    "b) Flip a fair coin 10 times. If the coin lands on H, then pick the last data point of `c1` and remove it from `c1`, if T then pick the last data point from `c2` and remove it from `c2`. Add these 10 points to a list called `data`."
   ]
  },
  {
   "cell_type": "code",
   "execution_count": 20,
   "metadata": {},
   "outputs": [
    {
     "name": "stdout",
     "output_type": "stream",
     "text": [
      "[10.087734411295035, 7.607779861211034, 6.330608165393387, 8.19527714603357, 2.229553250178349, 7.560110551269754, 7.0432608047796705, 8.948503952600749, 7.55466892161569, 3.4712086547320213]\n"
     ]
    }
   ],
   "source": [
    "data = []\n",
    "for i in range(10):\n",
    "\n",
    "    coin_output = random.choice([0, 1])\n",
    "    if coin_output == 0:\n",
    "        p1 = c1.pop()\n",
    "        data.append(p1)\n",
    "    else:\n",
    "        p2 = c2.pop()\n",
    "        data.append(p2)\n",
    "print(data)"
   ]
  },
  {
   "cell_type": "markdown",
   "metadata": {},
   "source": [
    "c) This `data` is a Gaussian Mixture Distribution with 2 mixture components. Over the next few questions we will walk through the GMM algorithm to see if we can uncover the parameters we used to generate this data. First, please list all these parameters of the GMM that created `data` and the values we know they have."
   ]
  },
  {
   "cell_type": "markdown",
   "metadata": {},
   "source": [
    "Probability of heads / tails (50%), mean of C1/C2, variance of C1/C2, sample size of C1/C2"
   ]
  },
  {
   "cell_type": "markdown",
   "metadata": {},
   "source": [
    "d) Let's assume there are two mixture components (note: we could plot the data and make the observation that there are two clusters). The EM algorithm asks us to start with a random `mean_j`, `variance_j`, `P(C_j)` for each component j. One method we could use to find sensible values for these is to apply K means with k=2 here.\n",
    "\n",
    "1. the centroids would be the estimates of the `mean_j`\n",
    "2. the intra-cluster variance could be the estimate of `variance_j`\n",
    "3. the proportion of points in each cluster could be the estimate of `P(C_j)`\n",
    "\n",
    "Go through this process and list the parameter estimates it gives. Are they close or far from the true values?"
   ]
  },
  {
   "cell_type": "code",
   "execution_count": 21,
   "metadata": {},
   "outputs": [
    {
     "name": "stdout",
     "output_type": "stream",
     "text": [
      "[10.087734411295035, 7.607779861211034, 6.330608165393387, 8.19527714603357, 7.560110551269754, 7.0432608047796705, 8.948503952600749, 7.55466892161569]\n",
      "[2.229553250178349, 3.4712086547320213]\n",
      "P(C_1) = 0.8,  P(C_2) = 0.2\n",
      "mean_1 = 7.915992976774859,  mean_2 = 2.8503809524551853\n",
      "var_1 = 1.1859810704039173,  var_2 = 26.045852216846406\n"
     ]
    },
    {
     "name": "stderr",
     "output_type": "stream",
     "text": [
      "/Library/Frameworks/Python.framework/Versions/3.11/lib/python3.11/site-packages/sklearn/cluster/_kmeans.py:1416: FutureWarning: The default value of `n_init` will change from 10 to 'auto' in 1.4. Set the value of `n_init` explicitly to suppress the warning\n",
      "  super()._check_params_vs_input(X, default_n_init=10)\n"
     ]
    }
   ],
   "source": [
    "kmeans = KMeans(2, init='k-means++').fit(X=np.array(data).reshape(-1, 1))\n",
    "\n",
    "c1 = [x[0] for x in filter(lambda x: x[1] == 0, zip(data, kmeans.labels_))]\n",
    "print(c1)\n",
    "c2 = [x[0] for x in filter(lambda x: x[1] != 0, zip(data, kmeans.labels_))]\n",
    "print(c2)\n",
    "\n",
    "prob_c = [ len(c1) / (len(c1) + len(c2)) , len(c2) / (len(c1) + len(c2)) ]\n",
    "mean = [ sum(c1)/len(c1) , sum(c2)/len(c2)  ]\n",
    "var = [ sum(map(lambda x : (x - mean[0])**2, c1)) / len(c1) , sum(map(lambda x : (x - mean[0])**2, c2)) / len(c2) ]\n",
    "\n",
    "print(\"P(C_1) = \" + str(prob_c[0]) + \",  P(C_2) = \" + str(prob_c[1]))\n",
    "print(\"mean_1 = \" + str(mean[0]) + \",  mean_2 = \" + str(mean[1]))\n",
    "print(\"var_1 = \" + str(var[0]) + \",  var_2 = \" + str(var[1]))"
   ]
  },
  {
   "cell_type": "markdown",
   "metadata": {},
   "source": []
  },
  {
   "cell_type": "markdown",
   "metadata": {},
   "source": [
    "e) For each data point, compute `P(C_j | X_i)`. Comment on which cluster you think each point belongs to based on the estimated probabilities. How does that compare to the truth?"
   ]
  },
  {
   "cell_type": "code",
   "execution_count": 22,
   "metadata": {},
   "outputs": [
    {
     "name": "stdout",
     "output_type": "stream",
     "text": [
      "point =  10.087734411295035\n",
      "probability of observing that point if it came from cluster 0 =  0.06290599894235079\n",
      "probability of observing that point if it came from cluster 1 =  0.014736868656687503\n",
      "point =  7.607779861211034\n",
      "probability of observing that point if it came from cluster 0 =  0.3252120793042074\n",
      "probability of observing that point if it came from cluster 1 =  0.015063533655678875\n",
      "point =  6.330608165393387\n",
      "probability of observing that point if it came from cluster 0 =  0.13765745372348084\n",
      "probability of observing that point if it came from cluster 1 =  0.015180795306453007\n",
      "point =  8.19527714603357\n",
      "probability of observing that point if it came from cluster 0 =  0.32718283240017065\n",
      "probability of observing that point if it came from cluster 1 =  0.014997783604740609\n",
      "point =  2.229553250178349\n",
      "probability of observing that point if it came from cluster 0 =  3.4258917041688874e-06\n",
      "probability of observing that point if it came from cluster 1 =  0.01531257119641161\n",
      "point =  7.560110551269754\n",
      "probability of observing that point if it came from cluster 0 =  0.3215728515718549\n",
      "probability of observing that point if it came from cluster 1 =  0.015068544940529881\n",
      "point =  7.0432608047796705\n",
      "probability of observing that point if it came from cluster 0 =  0.2565930639063648\n",
      "probability of observing that point if it came from cluster 1 =  0.015119734623611526\n",
      "point =  8.948503952600749\n",
      "probability of observing that point if it came from cluster 0 =  0.23027569574987009\n",
      "probability of observing that point if it came from cluster 1 =  0.014902808978407376\n",
      "point =  7.55466892161569\n",
      "probability of observing that point if it came from cluster 0 =  0.3211270251251234\n",
      "probability of observing that point if it came from cluster 1 =  0.015069113893491528\n",
      "point =  3.4712086547320213\n",
      "probability of observing that point if it came from cluster 0 =  0.0002997987912951708\n",
      "probability of observing that point if it came from cluster 1 =  0.01531257119641161\n",
      "10.087734411295035\n",
      "Probability of coming from C_1 = 0.9446732961749467\n",
      "Probability of coming from C_2 = 0.055326703825053336\n",
      "\n",
      "7.607779861211034\n",
      "Probability of coming from C_1 = 0.9885527790895027\n",
      "Probability of coming from C_2 = 0.011447220910497215\n",
      "\n",
      "6.330608165393387\n",
      "Probability of coming from C_1 = 0.9731698292100304\n",
      "Probability of coming from C_2 = 0.026830170789969587\n",
      "\n",
      "8.19527714603357\n",
      "Probability of coming from C_1 = 0.9886700508018416\n",
      "Probability of coming from C_2 = 0.011329949198158318\n",
      "\n",
      "2.229553250178349\n",
      "Probability of coming from C_1 = 0.0008941224810580825\n",
      "Probability of coming from C_2 = 0.9991058775189419\n",
      "\n",
      "7.560110551269754\n",
      "Probability of coming from C_1 = 0.9884209246440145\n",
      "Probability of coming from C_2 = 0.011579075355985378\n",
      "\n",
      "7.0432608047796705\n",
      "Probability of coming from C_1 = 0.9854826203512178\n",
      "Probability of coming from C_2 = 0.014517379648782195\n",
      "\n",
      "8.948503952600749\n",
      "Probability of coming from C_1 = 0.9840782906575205\n",
      "Probability of coming from C_2 = 0.01592170934247948\n",
      "\n",
      "7.55466892161569\n",
      "Probability of coming from C_1 = 0.9884046028765451\n",
      "Probability of coming from C_2 = 0.011595397123454884\n",
      "\n",
      "3.4712086547320213\n",
      "Probability of coming from C_1 = 0.07262670382558879\n",
      "Probability of coming from C_2 = 0.9273732961744112\n",
      "\n"
     ]
    }
   ],
   "source": [
    "from scipy.stats import norm\n",
    "\n",
    "prob_c0_x = [] # P(C_0 | X_i)\n",
    "prob_c1_x = [] # P(C_1 | X_i)\n",
    "prob_x = [] # P(X_i)\n",
    "\n",
    "k = 2\n",
    "\n",
    "for p in data:\n",
    "    print(\"point = \", p)\n",
    "    pdf_i = []\n",
    "\n",
    "    for j in range(k):\n",
    "      \n",
    "        pdf_i.append(norm.pdf(p, mean[j], var[j]))\n",
    "        print(\"probability of observing that point if it came from cluster \" + str(j) + \" = \", pdf_i[j])\n",
    "      \n",
    "        prob_c[j]\n",
    "\n",
    "    prob_x = prob_c[0] * pdf_i[0] + prob_c[1] * pdf_i[1]\n",
    "\n",
    "    prob_c0_x.append(pdf_i[0] * prob_c[0] / prob_x )\n",
    "    prob_c1_x.append(pdf_i[1] * prob_c[1] / prob_x )\n",
    "\n",
    "probs = zip(data, prob_c0_x, prob_c1_x)\n",
    "for p in probs:\n",
    "    print(p[0])\n",
    "    print(\"Probability of coming from C_1 = \" + str(p[1]))\n",
    "    print(\"Probability of coming from C_2 = \" + str(p[2]))\n",
    "    print()\n"
   ]
  },
  {
   "cell_type": "markdown",
   "metadata": {},
   "source": [
    "f) Having computed `P(C_j | X_i)`, update the estimates of `mean_j`, `var_j`, and `P(C_j)`. How different are these values from the original ones you got from K means? briefly comment."
   ]
  },
  {
   "cell_type": "code",
   "execution_count": null,
   "metadata": {},
   "outputs": [],
   "source": [
    "prob_c = [sum(prob_c0_x)/ len(prob_c0_x), ... ]\n",
    "mean = [sum([x[0] * x[1] for x in zip(prob_c0_x, data)]) / sum(prob_c0_x), ... ]\n",
    "var = [ ... , ... ]\n",
    "\n",
    "print(\"P(C_1) = \" + str(prob_c[0]) + \",  P(C_2) = \" + str(prob_c[1]))\n",
    "print(\"mean_1 = \" + str(mean[0]) + \",  mean_2 = \" + str(mean[1]))\n",
    "print(\"var_1 = \" + str(var[0]) + \",  var_2 = \" + str(var[1]))"
   ]
  },
  {
   "cell_type": "markdown",
   "metadata": {},
   "source": [
    "Very different. Variability lower than k-mean. More likely to be classified as C2."
   ]
  },
  {
   "cell_type": "markdown",
   "metadata": {},
   "source": [
    "g) Update `P(C_j | X_i)`. Comment on any differences or lack thereof you observe."
   ]
  },
  {
   "cell_type": "code",
   "execution_count": 23,
   "metadata": {},
   "outputs": [
    {
     "name": "stdout",
     "output_type": "stream",
     "text": [
      "point =  10.087734411295035\n",
      "probability of observing that point if it came from cluster 0 =  0.06290599894235079\n",
      "probability of observing that point if it came from cluster 1 =  0.014736868656687503\n",
      "point =  7.607779861211034\n",
      "probability of observing that point if it came from cluster 0 =  0.3252120793042074\n",
      "probability of observing that point if it came from cluster 1 =  0.015063533655678875\n",
      "point =  6.330608165393387\n",
      "probability of observing that point if it came from cluster 0 =  0.13765745372348084\n",
      "probability of observing that point if it came from cluster 1 =  0.015180795306453007\n",
      "point =  8.19527714603357\n",
      "probability of observing that point if it came from cluster 0 =  0.32718283240017065\n",
      "probability of observing that point if it came from cluster 1 =  0.014997783604740609\n",
      "point =  2.229553250178349\n",
      "probability of observing that point if it came from cluster 0 =  3.4258917041688874e-06\n",
      "probability of observing that point if it came from cluster 1 =  0.01531257119641161\n",
      "point =  7.560110551269754\n",
      "probability of observing that point if it came from cluster 0 =  0.3215728515718549\n",
      "probability of observing that point if it came from cluster 1 =  0.015068544940529881\n",
      "point =  7.0432608047796705\n",
      "probability of observing that point if it came from cluster 0 =  0.2565930639063648\n",
      "probability of observing that point if it came from cluster 1 =  0.015119734623611526\n",
      "point =  8.948503952600749\n",
      "probability of observing that point if it came from cluster 0 =  0.23027569574987009\n",
      "probability of observing that point if it came from cluster 1 =  0.014902808978407376\n",
      "point =  7.55466892161569\n",
      "probability of observing that point if it came from cluster 0 =  0.3211270251251234\n",
      "probability of observing that point if it came from cluster 1 =  0.015069113893491528\n",
      "point =  3.4712086547320213\n",
      "probability of observing that point if it came from cluster 0 =  0.0002997987912951708\n",
      "probability of observing that point if it came from cluster 1 =  0.01531257119641161\n",
      "10.087734411295035\n",
      "Probability of coming from C_1 = 0.9446732961749467\n",
      "Probability of coming from C_2 = 0.055326703825053336\n",
      "\n",
      "7.607779861211034\n",
      "Probability of coming from C_1 = 0.9885527790895027\n",
      "Probability of coming from C_2 = 0.011447220910497215\n",
      "\n",
      "6.330608165393387\n",
      "Probability of coming from C_1 = 0.9731698292100304\n",
      "Probability of coming from C_2 = 0.026830170789969587\n",
      "\n",
      "8.19527714603357\n",
      "Probability of coming from C_1 = 0.9886700508018416\n",
      "Probability of coming from C_2 = 0.011329949198158318\n",
      "\n",
      "2.229553250178349\n",
      "Probability of coming from C_1 = 0.0008941224810580825\n",
      "Probability of coming from C_2 = 0.9991058775189419\n",
      "\n",
      "7.560110551269754\n",
      "Probability of coming from C_1 = 0.9884209246440145\n",
      "Probability of coming from C_2 = 0.011579075355985378\n",
      "\n",
      "7.0432608047796705\n",
      "Probability of coming from C_1 = 0.9854826203512178\n",
      "Probability of coming from C_2 = 0.014517379648782195\n",
      "\n",
      "8.948503952600749\n",
      "Probability of coming from C_1 = 0.9840782906575205\n",
      "Probability of coming from C_2 = 0.01592170934247948\n",
      "\n",
      "7.55466892161569\n",
      "Probability of coming from C_1 = 0.9884046028765451\n",
      "Probability of coming from C_2 = 0.011595397123454884\n",
      "\n",
      "3.4712086547320213\n",
      "Probability of coming from C_1 = 0.07262670382558879\n",
      "Probability of coming from C_2 = 0.9273732961744112\n",
      "\n"
     ]
    }
   ],
   "source": [
    "prob_c0_x = [] \n",
    "prob_c1_x = [] \n",
    "prob_x = [] \n",
    "\n",
    "k = 2\n",
    "\n",
    "for p in data:\n",
    "    print(\"point = \", p)\n",
    "    pdf_i = []\n",
    "\n",
    "    for j in range(k):\n",
    "       \n",
    "        pdf_i.append(norm.pdf(p, mean[j], var[j]))\n",
    "        print(\"probability of observing that point if it came from cluster \" + str(j) + \" = \", pdf_i[j])\n",
    "   \n",
    "        prob_c[j]\n",
    "\n",
    "    prob_x = prob_c[0] * pdf_i[0] + prob_c[1] * pdf_i[1]\n",
    "\n",
    "\n",
    "    prob_c0_x.append(pdf_i[0] * prob_c[0] / prob_x )\n",
    "    prob_c1_x.append(pdf_i[1] * prob_c[1] / prob_x )\n",
    "\n",
    "probs = zip(data, prob_c0_x, prob_c1_x)\n",
    "for p in probs:\n",
    "    print(p[0])\n",
    "    print(\"Probability of coming from C_1 = \" + str(p[1]))\n",
    "    print(\"Probability of coming from C_2 = \" + str(p[2]))\n",
    "    print()\n"
   ]
  },
  {
   "cell_type": "markdown",
   "metadata": {},
   "source": [
    "More likely to come from c1."
   ]
  },
  {
   "cell_type": "markdown",
   "metadata": {},
   "source": [
    "h) Use `P(C_j | X_i)` to create a hard assignment - label each point as belonging to a specific cluster (0 or 1)"
   ]
  },
  {
   "cell_type": "code",
   "execution_count": 24,
   "metadata": {},
   "outputs": [
    {
     "name": "stdout",
     "output_type": "stream",
     "text": [
      "points in cluster 0 : [7.607779861211034, 6.330608165393387, 8.19527714603357, 7.560110551269754, 7.0432608047796705, 8.948503952600749, 7.55466892161569]\n",
      "points in cluster 1 : [10.087734411295035, 2.229553250178349, 3.4712086547320213]\n"
     ]
    }
   ],
   "source": [
    "assignments = [[], []]\n",
    "for x in zip(data, prob_c0_x):\n",
    "    p = x[1]\n",
    "    d = x[0]\n",
    "    if random.random() <= p:\n",
    "        assignments[0].append(d)\n",
    "    else:\n",
    "        assignments[1].append(d)\n",
    "print(f\"points in cluster 0 : {assignments[0]}\\npoints in cluster 1 : {assignments[1]}\")"
   ]
  }
 ],
 "metadata": {
  "interpreter": {
   "hash": "76ca05dc3ea24b2e3b98cdb7774adfbb40773424bf5109b477fd793f623715af"
  },
  "kernelspec": {
   "display_name": "Python 3 (ipykernel)",
   "language": "python",
   "name": "python3"
  },
  "language_info": {
   "codemirror_mode": {
    "name": "ipython",
    "version": 3
   },
   "file_extension": ".py",
   "mimetype": "text/x-python",
   "name": "python",
   "nbconvert_exporter": "python",
   "pygments_lexer": "ipython3",
   "version": "3.11.1"
  }
 },
 "nbformat": 4,
 "nbformat_minor": 4
}
